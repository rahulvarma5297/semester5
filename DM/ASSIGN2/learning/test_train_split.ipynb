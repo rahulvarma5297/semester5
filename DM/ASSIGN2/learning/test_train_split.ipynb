{
 "cells": [
  {
   "cell_type": "code",
   "execution_count": 5,
   "metadata": {},
   "outputs": [
    {
     "name": "stdout",
     "output_type": "stream",
     "text": [
      "(9143, 89)\n",
      "(9143, 58)\n",
      "Accuracy:  0.963914707490432\n",
      "Precision:  0.9669762641898865\n",
      "Recall:  0.964984552008239\n",
      "F1:  0.965979381443299\n"
     ]
    }
   ],
   "source": [
    "import pandas as pd\n",
    "from sklearn.ensemble import RandomForestClassifier\n",
    "from sklearn.metrics import accuracy_score, precision_score, recall_score, f1_score\n",
    "from sklearn.model_selection import train_test_split\n",
    "\n",
    "training_data = pd.read_csv(\"C:/Users/Rahul Varma/Downloads/training.csv\")\n",
    "\n",
    "# Convert phishing to 1 and legitimate to 0\n",
    "training_data['status'] = training_data['status'].map({'phishing': 1, 'legitimate': 0})\n",
    "\n",
    "\n",
    "print(training_data.shape)\n",
    "training_data = training_data.drop('url', axis=1)\n",
    "\n",
    "training_data = training_data[['google_index', 'page_rank', 'nb_hyperlinks', 'web_traffic', 'domain_age', 'nb_www', 'safe_anchor', 'length_url', 'ratio_digits_url', 'shortest_word_host', 'domain_registration_length', 'longest_words_raw', 'phish_hints', 'length_hostname', 'char_repeat', 'shortest_word_path', 'nb_slash', 'domain_in_title', 'shortest_words_raw', 'nb_dots', 'ratio_digits_host', 'longest_word_host', 'nb_hyphens', 'ip', 'nb_qm', 'nb_subdomains', 'domain_with_copyright', 'nb_redirection', 'domain_in_brand', 'https_token', 'nb_underscore', 'prefix_suffix', 'shortening_service', 'nb_and', 'nb_com', 'nb_percent', 'suspecious_tld', 'whois_registered_domain', 'random_domain', 'statistical_report', 'tld_in_subdomain', 'dns_record', 'nb_space', 'tld_in_path', 'nb_at', 'nb_colon', 'http_in_path', 'nb_semicolumn', 'nb_dslash', 'nb_tilde', 'brand_in_path', 'port', 'brand_in_subdomain', 'nb_comma', 'nb_external_redirection', 'path_extension', 'punycode', 'status']]\n",
    "# training_data = training_data.drop(['nb_eq','abnormal_subdomain','length_words_raw','longest_word_path','avg_words_raw','avg_word_host','avg_word_path','ratio_intHyperlinks','ratio_extHyperlinks','ratio_nullHyperlinks','nb_extCSS','ratio_intRedirection','ratio_extRedirection','ratio_intErrors','ratio_extErrors','login_form','external_favicon','links_in_tags','submit_email','ratio_intMedia','ratio_extMedia','sfh','iframe','popup_window','onmouseover','right_clic','empty_title'], axis=1)\n",
    "\n",
    "\n",
    "# training_data.drop('url', axis=1, inplace=True)\n",
    "# shape of training data\n",
    "print(training_data.shape)\n",
    "\n",
    "X = training_data.drop('status', axis=1)\n",
    "y = training_data['status']\n",
    "X_train, X_test, y_train, y_test = train_test_split(X, y, test_size=0.2, random_state=42)\n",
    "model = RandomForestClassifier(n_estimators=100, random_state=1)\n",
    "model.fit(X_train, y_train)\n",
    "y_pred = model.predict(X_test)\n",
    "print('Accuracy: ', accuracy_score(y_test, y_pred))\n",
    "print('Precision: ', precision_score(y_test, y_pred))\n",
    "print('Recall: ', recall_score(y_test, y_pred))\n",
    "print('F1: ', f1_score(y_test, y_pred))"
   ]
  }
 ],
 "metadata": {
  "kernelspec": {
   "display_name": "Python 3.10.7 64-bit",
   "language": "python",
   "name": "python3"
  },
  "language_info": {
   "codemirror_mode": {
    "name": "ipython",
    "version": 3
   },
   "file_extension": ".py",
   "mimetype": "text/x-python",
   "name": "python",
   "nbconvert_exporter": "python",
   "pygments_lexer": "ipython3",
   "version": "3.10.7"
  },
  "orig_nbformat": 4,
  "vscode": {
   "interpreter": {
    "hash": "26de051ba29f2982a8de78e945f0abaf191376122a1563185a90213a26c5da77"
   }
  }
 },
 "nbformat": 4,
 "nbformat_minor": 2
}
