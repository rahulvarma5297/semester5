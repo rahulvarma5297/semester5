{
 "cells": [
  {
   "cell_type": "code",
   "execution_count": null,
   "metadata": {},
   "outputs": [],
   "source": [
    "from csv import reader\n",
    "def csv_loading(f_name):\n",
    "\tdata = list()\n",
    "\twith open(f_name, 'r') as file:\n",
    "\t\tcsv_reader = reader(file)\n",
    "\t\tfor row in csv_reader:\n",
    "\t\t\tif not row:\n",
    "\t\t\t\tcontinue\n",
    "\t\t\tdata.append(row)\n",
    "\treturn data"
   ]
  },
  {
   "cell_type": "code",
   "execution_count": null,
   "metadata": {},
   "outputs": [],
   "source": [
    "\n",
    "import random\n",
    "import csv\n",
    " \n",
    "def load_data(filename, splitting, training_set=[] , testing_example=[]):\n",
    "\twith open(filename, 'rt') as temp:\n",
    "\t\tli = csv.reader(temp)\n",
    "\t\toriginal_data = list (li)\n",
    "\t\tfor i in range(len(original_data)-1):\n",
    "\t\t\tfor j in range(4):\n",
    "\t\t\t\toriginal_data[i][j] = float(original_data[i][j])\n",
    "\t\t\tif random.random() < splitting:\n",
    "\t\t\t\ttraining_set.append(original_data[i])\n",
    "\t\t\telse:\n",
    "\t\t\t\ttesting_example.append(original_data[i])"
   ]
  },
  {
   "cell_type": "code",
   "execution_count": null,
   "metadata": {},
   "outputs": [],
   "source": [
    "# String to float\n",
    "def str_float(d_set, col):\n",
    "\tfor row in d_set:\n",
    "\t\trow[col] = float(row[col].strip())"
   ]
  },
  {
   "cell_type": "code",
   "execution_count": null,
   "metadata": {},
   "outputs": [],
   "source": [
    "# String to int\n",
    "def str_int(d_set, col):\n",
    "\tval = [row[col] for row in d_set]\n",
    "\tunq_val = set(val)\n",
    "\tt = dict()\n",
    "\tfor i, j in enumerate(unq_val):\n",
    "\t\tt[j] = i\n",
    "\tfor row in d_set:\n",
    "\t\trow[col] = t[row[col]]\n",
    "\treturn t"
   ]
  },
  {
   "cell_type": "code",
   "execution_count": null,
   "metadata": {},
   "outputs": [],
   "source": [
    "from operator import imod\n",
    "from random import seed\n",
    "from random import randrange\n",
    "\n",
    "\n",
    "# Split a dataset into k folds\n",
    "def cross_val_split(d_set, num_cros_val):\n",
    "\td_set_spilt = list()\n",
    "\td_set_copy = list(d_set)\n",
    "\tfold_size = int(len(d_set) / num_cros_val)\n",
    "\tfor _ in range(num_cros_val):\n",
    "\t\tfold = list()\n",
    "\t\twhile len(fold) < fold_size:\n",
    "\t\t\tindex = randrange(len(d_set_copy))\n",
    "\t\t\tfold.append(d_set_copy.pop(index))\n",
    "\t\td_set_spilt.append(fold)\n",
    "\treturn d_set_spilt"
   ]
  },
  {
   "cell_type": "code",
   "execution_count": null,
   "metadata": {},
   "outputs": [],
   "source": [
    "# Calculate accuracy percentage\n",
    "def accuracy_measure(a, p):\n",
    "\tc = 0\n",
    "\tfor i in range(len(a)):\n",
    "\t\tif a[i] == p[i]:\n",
    "\t\t\tc += 1\n",
    "\treturn c / float(len(a)) * 100.0"
   ]
  },
  {
   "cell_type": "code",
   "execution_count": null,
   "metadata": {},
   "outputs": [],
   "source": [
    "# Evaluate an algorithm using a cross validation split\n",
    "def main_func(d_set, algo, num_cros_val, *args):\n",
    "\tfolds = cross_val_split(d_set, num_cros_val)\n",
    "\ts = list()\n",
    "\tfor x in folds:\n",
    "\t\ttrain_set = list(folds)\n",
    "\t\ttrain_set.remove(x)\n",
    "\t\ttrain_set = sum(train_set, [])\n",
    "\t\ttest_set = list()\n",
    "\t\tfor row in x:\n",
    "\t\t\trow_copy = list(row)\n",
    "\t\t\ttest_set.append(row_copy)\n",
    "\t\t\trow_copy[-1] = None\n",
    "\t\tpred = algo(train_set, test_set, *args)\n",
    "\t\tact = [row[-1] for row in x]\n",
    "\t\ta = accuracy_measure(act, pred)\n",
    "\t\ts.append(a)\n",
    "\treturn s"
   ]
  },
  {
   "cell_type": "code",
   "execution_count": null,
   "metadata": {},
   "outputs": [],
   "source": [
    "\n",
    "from math import sqrt\n",
    "\n",
    "# Distance Between two given points\n",
    "def euclidean_distance(p1, p2):\n",
    "\td = 0.0\n",
    "\tfor x in range(len(p1)-1):\n",
    "\t\td += (p1[x] - p2[x])**2\n",
    "\treturn sqrt(d)\n",
    " "
   ]
  },
  {
   "cell_type": "code",
   "execution_count": null,
   "metadata": {},
   "outputs": [],
   "source": [
    "# near similar neighbours\n",
    "def get_neigh(training_set, test_row, num_neighbors):\n",
    "\td = list()\n",
    "\tfor train_row in training_set:\n",
    "\t\tdist = euclidean_distance(test_row, train_row)\n",
    "\t\td.append((train_row, dist))\n",
    "\td.sort(key=lambda tup: tup[1])\n",
    "\tneighbors = list()\n",
    "\tfor i in range(num_neighbors):\n",
    "\t\tneighbors.append(d[i][0])\n",
    "\treturn neighbors"
   ]
  },
  {
   "cell_type": "code",
   "execution_count": null,
   "metadata": {},
   "outputs": [],
   "source": [
    "# Make a prediction with neighbors\n",
    "def predict_classification(training_set, test_row, num_neighbors):\n",
    "\tneighbors = get_neigh(training_set, test_row, num_neighbors)\n",
    "\toutput_values = [row[-1] for row in neighbors]\n",
    "\tprediction = max(set(output_values), key=output_values.count)\n",
    "\treturn prediction"
   ]
  },
  {
   "cell_type": "code",
   "execution_count": null,
   "metadata": {},
   "outputs": [],
   "source": [
    "# KNN algo for finding nearest neighobour\n",
    "def near_neigh(training_set, testing_set, num_neighbors):\n",
    "\tp = list()\n",
    "\tfor row in testing_set:\n",
    "\t\to = predict_classification(training_set, row, num_neighbors)\n",
    "\t\tp.append(o)\n",
    "\treturn(p)\n",
    " "
   ]
  },
  {
   "cell_type": "code",
   "execution_count": null,
   "metadata": {},
   "outputs": [],
   "source": [
    "from operator import imod\n",
    "from random import seed\n",
    "from random import randrange\n",
    "from csv import reader\n",
    "from math import sqrt\n",
    "import random\n",
    "import csv\n",
    "# Testing for the KNN on the given iris dataset\n",
    "# 1. Implement 5-Fold Cross Validation (5M) \n",
    "seed(1)\n",
    "t_set=[] # For storing 120 data\n",
    "t_example=[] # For Storing remaning 30 data\n",
    "split = 0.8 # \n",
    "f_name = 'iris.csv'\n",
    "dataset = csv_loading(f_name)\n",
    "for i in range(len(dataset[0])-1):\n",
    "\tstr_float(dataset, i)\n",
    "str_int(dataset, len(dataset[0])-1)\n",
    "\n",
    "# 2. Perform 5-Fold cross validation on KNN Classifier (which you have implemented on Lab1) for IRIS Dataset \n",
    "num_cros_val = int(input(\"Enter Value for K in K-Fold cross validation (ie. K = 5) : \"))\n",
    "if(num_cros_val < 2):\n",
    "\tnum_cros_val = 2\n",
    "# num_cros_val = 5 (Value for 5-Fold Cross Validation)\n",
    "\n",
    "ans = []\n",
    "for x in range(1, 11):\n",
    "    num_neighbors = x\n",
    "    scores = main_func(dataset, near_neigh, num_cros_val, num_neighbors)\n",
    "    temp = (scores[0] + scores[1]) / 2\n",
    "    ans.append(temp)\n",
    "    print('Accuracy for', x ,'- KNN: %s' % temp,'%')\n",
    "\n",
    "print()\n",
    "# 4. Report the validation accuracy and test accuracy of the classifier.  \n",
    "# {Note, validation accuracy will have standard deviation, report that too}(1M)\n",
    "total = 0.0\n",
    "for x in range(0, len(ans)):\n",
    "    total = total + ans[x]\n",
    "print('Mean Accuracy: %.3f%%' % (total/float(len(ans))))\n",
    "\n",
    "mean = sum(ans) / len(ans)\n",
    "variance = sum([((x - mean) ** 2) for x in ans]) / len(ans)\n",
    "res = variance ** 0.5\n",
    "print('Variance : %.3f%%' % variance)\n",
    "print('Standard Deviation : %.3f%%' %res)\n",
    "\n",
    "# 3. Find out the best K value for the KNN Classifier using step-2. (2M)\n",
    "best = 0\n",
    "ma = 0\n",
    "for i in range(0,10):\n",
    "    if ma < ans[i]:\n",
    "        ma = ans[i]\n",
    "        best = i+1\n",
    "print('The Best Value of K is',best)\n",
    "print()\n"
   ]
  }
 ],
 "metadata": {
  "kernelspec": {
   "display_name": "Python 3.10.1 64-bit",
   "language": "python",
   "name": "python3"
  },
  "language_info": {
   "name": "python",
   "version": "3.10.1"
  },
  "orig_nbformat": 4,
  "vscode": {
   "interpreter": {
    "hash": "f4dee7f49e95732cd229633692c20b9c9cab7567fb9b2fdc24592c5af09c413b"
   }
  }
 },
 "nbformat": 4,
 "nbformat_minor": 2
}
