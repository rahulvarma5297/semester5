{
 "cells": [
  {
   "cell_type": "code",
   "execution_count": null,
   "metadata": {},
   "outputs": [],
   "source": [
    "\n",
    "import numpy as np\n",
    "import pandas as pd\n",
    "import matplotlib.pyplot as plt\n",
    "from sklearn import datasets\n",
    "from sklearn.model_selection import train_test_split\n",
    "\n",
    "# Load the dataset\n",
    "iris = datasets.load_iris()\n",
    "\n",
    "X = [[5.1, 3.5, 1.4, 0.2],\n",
    "     [4.9, 3.0, 1.4, 0.2],\n",
    "     [4.7, 3.2, 1.3, 0.2],\n",
    "     [4.6, 3.1, 1.5, 0.2],\n",
    "     [5.0, 3.6, 1.4, 0.2],\n",
    "     [5.4, 3.9, 1.7, 0.4],\n",
    "     [4.6, 3.4, 1.4, 0.3],\n",
    "     [5.0, 3.4, 1.5, 0.2],\n",
    "     [4.4, 2.9, 1.4, 0.2],\n",
    "     [4.9, 3.1, 1.5, 0.1],\n",
    "     [5.4, 3.7, 1.5, 0.2],\n",
    "     [4.8, 3.4, 1.6, 0.2],\n",
    "     [4.8, 3.0, 1.4, 0.1],\n",
    "     [4.3, 3.0, 1.1, 0.1],\n",
    "     [5.8, 4.0, 1.2, 0.2],\n",
    "     [5.7, 4.4, 1.5, 0.4],\n",
    "     ]\n",
    "\n",
    "y = [0, 0, 0, 0, 0, 0, 0, 0, 0, 0, 1, 1, 1, 1, 1, 1]\n",
    "\n",
    "# print(iris)\n",
    "# X = iris.data\n",
    "# y = iris.target\n"
   ]
  },
  {
   "cell_type": "code",
   "execution_count": null,
   "metadata": {},
   "outputs": [],
   "source": [
    "print(X)\n",
    "X_train, X_test, y_train, y_test = train_test_split(X, y, test_size=0.35, random_state=2)\n",
    "\n",
    "# Create a function to calculate the Euclidean distance\n",
    "def euclidean_distance(x1, x2):\n",
    "    return np.sqrt(np.sum((x1 - x2)**2))\n",
    "\n",
    "# Create a function to calculate the KNN\n",
    "def knn(X, y, test_point, k=5):\n",
    "    # Create a list for distances and targets\n",
    "    distances = []\n",
    "    targets = []\n",
    "\n",
    "    for i in range(len(X)):\n",
    "        # Calculate the distance\n",
    "        distance = euclidean_distance(test_point, X[i])\n",
    "        # Add it to list of distances\n",
    "        distances.append([distance, i])\n",
    "\n",
    "    # Sort the list\n",
    "    distances = sorted(distances)\n",
    "\n",
    "    # Make a list of the k neighbors' targets\n",
    "    for i in range(k):\n",
    "        index = distances[i][1]\n",
    "        targets.append(y[index])\n",
    "\n",
    "    # Return most common target\n",
    "    return np.bincount(targets).argmax()\n",
    "\n",
    "# Make predictions\n",
    "predictions = []\n",
    "for i in range(len(X_test)):\n",
    "    predictions.append(knn(X_train, y_train, X_test[i], k=5))\n",
    "\n",
    "# Calculate the accuracy\n",
    "accuracy = np.sum(predictions == y_test) / len(y_test)\n",
    "print(\"Accuracy:\", accuracy)\n",
    "\n",
    "# Plot the results\n",
    "plt.figure(figsize=(12, 8))\n",
    "plt.scatter(X_test[:, 0], X_test[:, 1], c=predictions, cmap='viridis')\n",
    "plt.show()\n",
    "print(y)\n"
   ]
  }
 ],
 "metadata": {
  "kernelspec": {
   "display_name": "Python 3.10.7 64-bit",
   "language": "python",
   "name": "python3"
  },
  "language_info": {
   "codemirror_mode": {
    "name": "ipython",
    "version": 3
   },
   "file_extension": ".py",
   "mimetype": "text/x-python",
   "name": "python",
   "nbconvert_exporter": "python",
   "pygments_lexer": "ipython3",
   "version": "3.10.7"
  },
  "orig_nbformat": 4,
  "vscode": {
   "interpreter": {
    "hash": "26de051ba29f2982a8de78e945f0abaf191376122a1563185a90213a26c5da77"
   }
  }
 },
 "nbformat": 4,
 "nbformat_minor": 2
}
