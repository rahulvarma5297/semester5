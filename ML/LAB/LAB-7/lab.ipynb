{
 "cells": [
  {
   "cell_type": "code",
   "execution_count": 276,
   "metadata": {},
   "outputs": [],
   "source": [
    "import random\n",
    "import pandas as pd\n",
    "import numpy as np"
   ]
  },
  {
   "cell_type": "code",
   "execution_count": 277,
   "metadata": {},
   "outputs": [],
   "source": [
    "df = pd.read_csv('House Price.csv', sep=',')\n",
    "df.insert(0, 'x', 1)\n",
    "# 70 : 30 split\n",
    "ratio_for_split = int(np.ceil((0.7)*df.shape[0]))\n",
    "# Training data\n",
    "train_data_list = df.iloc[:ratio_for_split, :]\n",
    "# Testing data\n",
    "test_data_list = df.iloc[ratio_for_split:, :]"
   ]
  },
  {
   "cell_type": "code",
   "execution_count": 278,
   "metadata": {},
   "outputs": [
    {
     "name": "stdout",
     "output_type": "stream",
     "text": [
      "The Coefficients of the Optimized model for each features are:\n",
      "0.68898536\n",
      "0.51542655\n",
      "-0.12048743\n",
      "-0.48884993\n",
      "0.02327378\n",
      "-0.18999484\n",
      "0.57436376\n",
      "-0.23820627\n",
      "-0.05398387\n",
      "0.1646503\n",
      "0.12468449\n",
      "0.00210536\n",
      "\n"
     ]
    }
   ],
   "source": [
    "# Coefficients\n",
    "random.seed(0)\n",
    "data = []\n",
    "# 12 Features\n",
    "for i in range(0, 12):\n",
    "    data.append(random.uniform(-1, 1))\n",
    "data = np.array(data).T\n",
    "# Learning rate\n",
    "alpha = 0.00001111  \n",
    "# Formula Used: θ = θ - α * partial derivative of(J(θ) / θ)\n",
    "# Optimized the model for up to 100 iteration \n",
    "for i in range(100):\n",
    "    data = data - alpha *\\\n",
    "        (np.dot((np.dot(train_data_list.iloc[:, :-1], data) -\n",
    "         train_data_list.iloc[:, -1]), train_data_list.iloc[:, :-1]) / train_data_list.shape[0])\n",
    "print('The Coefficients of the Optimized model for each features are:')\n",
    "for x in data:\n",
    "    print(round(x, 8))\n",
    "print()"
   ]
  },
  {
   "cell_type": "code",
   "execution_count": 279,
   "metadata": {},
   "outputs": [],
   "source": [
    "SSE_for_train_data = np.sum(\n",
    "    (np.dot(train_data_list.iloc[:, :-1], data) - train_data_list.iloc[:, -1])**2)\n",
    "SSE_for_test_data = np.sum(\n",
    "    (np.dot(test_data_list.iloc[:, :-1], data) - test_data_list.iloc[:, -1])**2)\n",
    "MSE_for_train_data = SSE_for_train_data / train_data_list.shape[0]\n",
    "MSE_for_test_data = SSE_for_test_data / test_data_list.shape[0]\n",
    "R2_for_train_data = 1 - \\\n",
    "    (SSE_for_train_data /\n",
    "     np.sum((train_data_list.iloc[:, -1] - np.mean(train_data_list.iloc[:, -1]))**2))\n",
    "R2_for_test_data = 1 - \\\n",
    "    (SSE_for_test_data /\n",
    "     np.sum((test_data_list.iloc[:, -1] - np.mean(test_data_list.iloc[:, -1]))**2))"
   ]
  },
  {
   "cell_type": "code",
   "execution_count": 280,
   "metadata": {},
   "outputs": [
    {
     "name": "stdout",
     "output_type": "stream",
     "text": [
      "SSE Score for Training Set: 57428.019786284654\n",
      "SSE Score for Testing  Set: 373049.62737509655\n",
      "\n",
      "MSE Score for Training Set: 162.22604459402444\n",
      "MSE Score for Testing  Set: 2470.527333609911\n",
      "\n",
      "R2 Score for Training Set: -1.2811285902121625\n",
      "R2 Score for Testing  Set: -36.0006857603768\n"
     ]
    }
   ],
   "source": [
    "print(\"SSE Score for Training Set:\", SSE_for_train_data)\n",
    "print(\"SSE Score for Testing  Set:\", SSE_for_test_data)\n",
    "print()\n",
    "print(\"MSE Score for Training Set:\", MSE_for_train_data)\n",
    "print(\"MSE Score for Testing  Set:\", MSE_for_test_data)\n",
    "print()\n",
    "print(\"R2 Score for Training Set:\", R2_for_train_data)\n",
    "print(\"R2 Score for Testing  Set:\", R2_for_test_data)"
   ]
  }
 ],
 "metadata": {
  "kernelspec": {
   "display_name": "Python 3.10.7 64-bit",
   "language": "python",
   "name": "python3"
  },
  "language_info": {
   "codemirror_mode": {
    "name": "ipython",
    "version": 3
   },
   "file_extension": ".py",
   "mimetype": "text/x-python",
   "name": "python",
   "nbconvert_exporter": "python",
   "pygments_lexer": "ipython3",
   "version": "3.10.7"
  },
  "orig_nbformat": 4,
  "vscode": {
   "interpreter": {
    "hash": "26de051ba29f2982a8de78e945f0abaf191376122a1563185a90213a26c5da77"
   }
  }
 },
 "nbformat": 4,
 "nbformat_minor": 2
}
